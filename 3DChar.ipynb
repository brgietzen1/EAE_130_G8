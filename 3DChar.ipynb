{
 "cells": [
  {
   "cell_type": "code",
   "execution_count": 19,
   "id": "4268d134",
   "metadata": {},
   "outputs": [
    {
     "name": "stdout",
     "output_type": "stream",
     "text": [
      "3D CLmax:\n",
      "\n",
      "NACA4418:\n",
      "  Clean   :  CLmax_3D = 1.633\n",
      "  Takeoff :  CLmax_3D = 1.773\n",
      "  Landing :  CLmax_3D = 1.894\n",
      "\n",
      "NACA2428:\n",
      "  Clean   :  CLmax_3D = 1.590\n",
      "  Takeoff :  CLmax_3D = 1.752\n",
      "  Landing :  CLmax_3D = 1.903\n"
     ]
    }
   ],
   "source": [
    "import math\n",
    "\n",
    "def convert_Cl2D_to_CL3D(Cl2D: float, sweep_qc_deg: float) -> float:\n",
    "    return 0.9 * Cl2D * math.cos(math.radians(sweep_qc_deg))\n",
    "\n",
    "if __name__ == \"__main__\":\n",
    "    sweep_qc_deg = 5.0\n",
    "\n",
    "    airfoil_data = {\n",
    "        \"NACA4418\": {\n",
    "            \"clean\":  1.821,\n",
    "            \"takeoff\": 1.977,\n",
    "            \"landing\": 2.113,\n",
    "        },\n",
    "        \"NACA2428\": {\n",
    "            \"clean\":  1.773,\n",
    "            \"takeoff\": 1.954,\n",
    "            \"landing\": 2.123,\n",
    "        },\n",
    "    }\n",
    "\n",
    "    print(\"3D CLmax:\")\n",
    "    for foil, cfgs in airfoil_data.items():\n",
    "        print(f\"\\n{foil}:\")\n",
    "        for cfg, cl2d in cfgs.items():\n",
    "            cl3d = convert_Cl2D_to_CL3D(cl2d, sweep_qc_deg)\n",
    "            print(f\"  {cfg.capitalize():<8}:  CLmax_3D = {cl3d:.3f}\")\n"
   ]
  }
 ],
 "metadata": {
  "kernelspec": {
   "display_name": "base",
   "language": "python",
   "name": "python3"
  },
  "language_info": {
   "codemirror_mode": {
    "name": "ipython",
    "version": 3
   },
   "file_extension": ".py",
   "mimetype": "text/x-python",
   "name": "python",
   "nbconvert_exporter": "python",
   "pygments_lexer": "ipython3",
   "version": "3.12.4"
  }
 },
 "nbformat": 4,
 "nbformat_minor": 5
}
